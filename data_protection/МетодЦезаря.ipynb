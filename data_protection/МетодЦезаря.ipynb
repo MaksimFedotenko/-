{
  "nbformat": 4,
  "nbformat_minor": 0,
  "metadata": {
    "colab": {
      "name": "Untitled6.ipynb",
      "provenance": []
    },
    "kernelspec": {
      "name": "python3",
      "display_name": "Python 3"
    },
    "language_info": {
      "name": "python"
    }
  },
  "cells": [
    {
      "cell_type": "code",
      "execution_count": 1,
      "metadata": {
        "colab": {
          "base_uri": "https://localhost:8080/"
        },
        "id": "9RurCa2KI5Ap",
        "outputId": "72af12d1-dd8f-404a-d5a9-fee405f16632"
      },
      "outputs": [
        {
          "name": "stdout",
          "output_type": "stream",
          "text": [
            "Введите Ш чтобы зашифровать сообщение, Р чтобы расшифровать и В чтобы выйти\n",
            ">>> Ш\n",
            "Введите строку: Привет всем\n",
            "Введите ключ: 34\n",
            "Результат: рсйгёу гтён\n",
            "Введите Ш чтобы зашифровать сообщение, Р чтобы расшифровать и В чтобы выйти\n",
            ">>> Р\n",
            "Введите строку: рсйгёу гтён\n",
            "Введите ключ: 34\n",
            "Результат: привет всем\n",
            "Введите Ш чтобы зашифровать сообщение, Р чтобы расшифровать и В чтобы выйти\n",
            ">>> В\n"
          ]
        }
      ],
      "source": [
        "#метод цезаря\n",
        "alphabet = 'абвгдеёжзийклмнопрстуфхцчшщъыьэюя'\n",
        "while True:\n",
        "    print('Введите Ш чтобы зашифровать сообщение, Р чтобы расшифровать и В чтобы выйти')\n",
        "    menu = input('>>> ').lower()\n",
        "    if menu == 'в':\n",
        "        break\n",
        "    elif not (menu == 'ш' or menu == 'р'):\n",
        "        continue\n",
        "    output = ''\n",
        "    message = input('Введите строку: ').lower()\n",
        "    key = int(input('Введите ключ: '))\n",
        "    if menu == 'р':\n",
        "        key *= -1\n",
        "    for letter in message:\n",
        "        if letter in alphabet:\n",
        "            t = alphabet.find(letter)\n",
        "            new_key = (t + key) % len(alphabet)\n",
        "            output += alphabet[new_key]\n",
        "        else:\n",
        "            output += letter\n",
        "    print('Результат: ' + output)"
      ]
    },
    {
      "cell_type": "code",
      "source": [
        "#моноалфавитный шифр \n"
      ],
      "metadata": {
        "id": "Q_2jEqj_XUFw"
      },
      "execution_count": null,
      "outputs": []
    }
  ]
}