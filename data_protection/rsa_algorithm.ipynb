{
  "nbformat": 4,
  "nbformat_minor": 0,
  "metadata": {
    "colab": {
      "name": "Untitled8.ipynb",
      "provenance": []
    },
    "kernelspec": {
      "name": "python3",
      "display_name": "Python 3"
    },
    "language_info": {
      "name": "python"
    }
  },
  "cells": [
    {
      "cell_type": "code",
      "execution_count": 1,
      "metadata": {
        "colab": {
          "base_uri": "https://localhost:8080/"
        },
        "id": "batzOKJ-CLsa",
        "outputId": "4deac535-f4ff-4c3d-aa98-64d8fb701e55"
      },
      "outputs": [
        {
          "output_type": "stream",
          "name": "stdout",
          "text": [
            "1 or 2: 1\n",
            "RSA Encrypter/ Decrypter\n",
            "Вводим простое число (17, 19, 23, etc): 17\n",
            "Вводим другое простое число (Отличное от введенного): 19\n",
            "Generating your public/private keypairs now . . .\n",
            "Your public key is  (137, 323)  and your private key is  (185, 323)\n",
            "Enter a message to encrypt with your public key: Hello w\n",
            "Your encrypted message is: \n",
            "your msg  [174, 169, 249, 249, 9, 287, 272]\n"
          ]
        }
      ],
      "source": [
        "#Алгоритм Евклида для определения наибольшего общего делителя\n",
        "def gcd(a, b):\n",
        "    while b != 0:\n",
        "        a, b = b, a % b\n",
        "    return a\n",
        "\n",
        "def multiplicative_inverse(a, m):\n",
        "    a = a % m; \n",
        "    for x in range(1, m) : \n",
        "        if ((a * x) % m == 1) : \n",
        "            return x \n",
        "    return 1\n",
        "\n",
        "#Простое число\n",
        "def is_prime(num):\n",
        "    if num == 2:\n",
        "        return True\n",
        "    if num < 2 or num % 2 == 0:\n",
        "        return False\n",
        "    for n in range(3, int(num**0.5)+2, 2): # cool trick here...\n",
        "        if num % n == 0:\n",
        "            return False\n",
        "    return True\n",
        "\n",
        "def generate_keypair(p, q):\n",
        "    if not (is_prime(p) and is_prime(q)):\n",
        "        raise ValueError('Both numbers must be prime.')\n",
        "    elif p == q:\n",
        "        raise ValueError('p and q cannot be equal')\n",
        "    #n = pq\n",
        "    n = p * q\n",
        "\n",
        "    #Phi \n",
        "    phi = (p-1) * (q-1)\n",
        "\n",
        "    #выбираем е такое, чтобы е и фи были взаимно простыми числами\n",
        "    e = random.randrange(1, phi)\n",
        "\n",
        "    #Используем алгоритм Евклида, чтобы проверить, что е и phi взаимнопростые \n",
        "    g = gcd(e, phi)\n",
        "    while g != 1:\n",
        "        e = random.randrange(1, phi)\n",
        "        g = gcd(e, phi)\n",
        "\n",
        "    #Используем алгоритм Евклида для генерации приватного ключа de ≡ 1 (mod phi)\n",
        "    d = multiplicative_inverse(e, phi)\n",
        "    \n",
        "    #Возврат открытого и закрытого ключа\n",
        "    #Открытый ключ (e, n) и закрытый ключ (d, n)\n",
        "    return ((e, n), (d, n))\n",
        "\n",
        "#@title\n",
        "import random\n",
        "s=int(input(\"1 or 2: \"))\n",
        "if s ==1:\n",
        "  print(\"RSA Encrypter/ Decrypter\")\n",
        "  p = int(input(\"Вводим простое число (17, 19, 23, etc): \"))\n",
        "  q = int(input(\"Вводим другое простое число (Отличное от введенного): \"))\n",
        "  print(\"Generating your public/private keypairs now . . .\")\n",
        "  public, private = generate_keypair(p, q)\n",
        "  print(\"Your public key is \", public ,\" and your private key is \", private)\n",
        "  def encrypt(pk, plaintext):\n",
        "    #Unpack the key into it's components\n",
        "    key, n = pk\n",
        "    #Convert each letter in the plaintext to numbers based on the character using rem(m^e,n) i.e. m^e mod n\n",
        "    cipher = [(ord(char) ** key) % n for char in plaintext]\n",
        "    #Return the array of bytes\n",
        "    return cipher\n",
        "  message = input(\"Enter a message to encrypt with your public key: \")\n",
        "  encrypted_msg = encrypt(public, message)\n",
        "  print(\"Your encrypted message is: \")\n",
        "  print(\"your msg \",encrypted_msg)\n",
        "else:\n",
        "  def decrypt(pk, ciphertext):\n",
        "    key, n = pk\n",
        "    #Generate the plaintext based on the ciphertext and key using rem(m'^d,n)\n",
        "    plain = [chr((char ** key) % n) for char in ciphertext]\n",
        "    #Return the array of bytes as a string\n",
        "    return ''.join(plain)\n",
        "  z = input(\"Enter a message to decrypt: \")\n",
        "  encrypted_msg = [int(i) for i in z.split(\",\")]\n",
        "  print (encrypted_msg)\n",
        "  print(\"Your message is: \")\n",
        "  print(decrypt(private, encrypted_msg))"
      ]
    }
  ]
}